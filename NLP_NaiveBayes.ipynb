{
  "nbformat": 4,
  "nbformat_minor": 0,
  "metadata": {
    "colab": {
      "name": "NLP NaiveBayes",
      "version": "0.3.2",
      "provenance": [],
      "collapsed_sections": [],
      "include_colab_link": true
    },
    "kernelspec": {
      "name": "python3",
      "display_name": "Python 3"
    }
  },
  "cells": [
    {
      "cell_type": "markdown",
      "metadata": {
        "id": "view-in-github",
        "colab_type": "text"
      },
      "source": [
        "<a href=\"https://colab.research.google.com/github/SamNdirangu/NLP-with-SVM-Random-Forest-NaiveBayes/blob/master/NLP_NaiveBayes.ipynb\" target=\"_parent\"><img src=\"https://colab.research.google.com/assets/colab-badge.svg\" alt=\"Open In Colab\"/></a>"
      ]
    },
    {
      "cell_type": "markdown",
      "metadata": {
        "id": "LDxWtB7CO2PO",
        "colab_type": "text"
      },
      "source": [
        "# Natural Language Processing\n",
        "\n",
        "Here I implement a simple natural language processing and classification algorithm.\n",
        "\n",
        "I chose to implement ot using multiple classification techniques and measure their performance comparatively.\n",
        "\n",
        "I've used the dataset from the SuperDatascience.com nlp machine learning datasets"
      ]
    },
    {
      "cell_type": "markdown",
      "metadata": {
        "id": "wZbAnIZPRsz_",
        "colab_type": "text"
      },
      "source": [
        "## Step 1: Do our imports"
      ]
    },
    {
      "cell_type": "code",
      "metadata": {
        "id": "9Wke7e2ORsPq",
        "colab_type": "code",
        "colab": {}
      },
      "source": [
        "#Helper libraries\n",
        "import numpy  as np\n",
        "import matplotlib.pyplot as plt\n",
        "import pandas as pd #To access our data"
      ],
      "execution_count": 0,
      "outputs": []
    },
    {
      "cell_type": "markdown",
      "metadata": {
        "id": "o1ic3SXRSBLb",
        "colab_type": "text"
      },
      "source": [
        "## Step 2: Import and Clean our Dataset"
      ]
    },
    {
      "cell_type": "code",
      "metadata": {
        "id": "gf5rZWqGSGD-",
        "colab_type": "code",
        "colab": {
          "base_uri": "https://localhost:8080/",
          "height": 33
        },
        "outputId": "48fe90bd-d271-4747-8c0a-f1a3792668f0"
      },
      "source": [
        "#The data is stoed as a tsv so we'll still use read_csv but use a tab as a \n",
        "# delimiter instead of the default comma\n",
        "dataset = pd.read_csv('Restaurant_Reviews.tsv', delimiter ='\\t', quoting = 3)\n",
        "dataset.shape"
      ],
      "execution_count": 22,
      "outputs": [
        {
          "output_type": "execute_result",
          "data": {
            "text/plain": [
              "(1000, 2)"
            ]
          },
          "metadata": {
            "tags": []
          },
          "execution_count": 22
        }
      ]
    },
    {
      "cell_type": "markdown",
      "metadata": {
        "id": "LKrKdcP9UoXk",
        "colab_type": "text"
      },
      "source": [
        "#### Do a bit of exploring"
      ]
    },
    {
      "cell_type": "code",
      "metadata": {
        "id": "7xQvXmc5UtbW",
        "colab_type": "code",
        "colab": {
          "base_uri": "https://localhost:8080/",
          "height": 1545
        },
        "outputId": "b9220380-24b7-4135-c461-b2ab6a20f14d"
      },
      "source": [
        "#Display the first the 50 rows of our data\n",
        "dataset.iloc[1:50, :]"
      ],
      "execution_count": 23,
      "outputs": [
        {
          "output_type": "execute_result",
          "data": {
            "text/html": [
              "<div>\n",
              "<style scoped>\n",
              "    .dataframe tbody tr th:only-of-type {\n",
              "        vertical-align: middle;\n",
              "    }\n",
              "\n",
              "    .dataframe tbody tr th {\n",
              "        vertical-align: top;\n",
              "    }\n",
              "\n",
              "    .dataframe thead th {\n",
              "        text-align: right;\n",
              "    }\n",
              "</style>\n",
              "<table border=\"1\" class=\"dataframe\">\n",
              "  <thead>\n",
              "    <tr style=\"text-align: right;\">\n",
              "      <th></th>\n",
              "      <th>Review</th>\n",
              "      <th>Liked</th>\n",
              "    </tr>\n",
              "  </thead>\n",
              "  <tbody>\n",
              "    <tr>\n",
              "      <th>1</th>\n",
              "      <td>Crust is not good.</td>\n",
              "      <td>0</td>\n",
              "    </tr>\n",
              "    <tr>\n",
              "      <th>2</th>\n",
              "      <td>Not tasty and the texture was just nasty.</td>\n",
              "      <td>0</td>\n",
              "    </tr>\n",
              "    <tr>\n",
              "      <th>3</th>\n",
              "      <td>Stopped by during the late May bank holiday of...</td>\n",
              "      <td>1</td>\n",
              "    </tr>\n",
              "    <tr>\n",
              "      <th>4</th>\n",
              "      <td>The selection on the menu was great and so wer...</td>\n",
              "      <td>1</td>\n",
              "    </tr>\n",
              "    <tr>\n",
              "      <th>5</th>\n",
              "      <td>Now I am getting angry and I want my damn pho.</td>\n",
              "      <td>0</td>\n",
              "    </tr>\n",
              "    <tr>\n",
              "      <th>6</th>\n",
              "      <td>Honeslty it didn't taste THAT fresh.)</td>\n",
              "      <td>0</td>\n",
              "    </tr>\n",
              "    <tr>\n",
              "      <th>7</th>\n",
              "      <td>The potatoes were like rubber and you could te...</td>\n",
              "      <td>0</td>\n",
              "    </tr>\n",
              "    <tr>\n",
              "      <th>8</th>\n",
              "      <td>The fries were great too.</td>\n",
              "      <td>1</td>\n",
              "    </tr>\n",
              "    <tr>\n",
              "      <th>9</th>\n",
              "      <td>A great touch.</td>\n",
              "      <td>1</td>\n",
              "    </tr>\n",
              "    <tr>\n",
              "      <th>10</th>\n",
              "      <td>Service was very prompt.</td>\n",
              "      <td>1</td>\n",
              "    </tr>\n",
              "    <tr>\n",
              "      <th>11</th>\n",
              "      <td>Would not go back.</td>\n",
              "      <td>0</td>\n",
              "    </tr>\n",
              "    <tr>\n",
              "      <th>12</th>\n",
              "      <td>The cashier had no care what so ever on what I...</td>\n",
              "      <td>0</td>\n",
              "    </tr>\n",
              "    <tr>\n",
              "      <th>13</th>\n",
              "      <td>I tried the Cape Cod ravoli, chicken, with cra...</td>\n",
              "      <td>1</td>\n",
              "    </tr>\n",
              "    <tr>\n",
              "      <th>14</th>\n",
              "      <td>I was disgusted because I was pretty sure that...</td>\n",
              "      <td>0</td>\n",
              "    </tr>\n",
              "    <tr>\n",
              "      <th>15</th>\n",
              "      <td>I was shocked because no signs indicate cash o...</td>\n",
              "      <td>0</td>\n",
              "    </tr>\n",
              "    <tr>\n",
              "      <th>16</th>\n",
              "      <td>Highly recommended.</td>\n",
              "      <td>1</td>\n",
              "    </tr>\n",
              "    <tr>\n",
              "      <th>17</th>\n",
              "      <td>Waitress was a little slow in service.</td>\n",
              "      <td>0</td>\n",
              "    </tr>\n",
              "    <tr>\n",
              "      <th>18</th>\n",
              "      <td>This place is not worth your time, let alone V...</td>\n",
              "      <td>0</td>\n",
              "    </tr>\n",
              "    <tr>\n",
              "      <th>19</th>\n",
              "      <td>did not like at all.</td>\n",
              "      <td>0</td>\n",
              "    </tr>\n",
              "    <tr>\n",
              "      <th>20</th>\n",
              "      <td>The Burrittos Blah!</td>\n",
              "      <td>0</td>\n",
              "    </tr>\n",
              "    <tr>\n",
              "      <th>21</th>\n",
              "      <td>The food, amazing.</td>\n",
              "      <td>1</td>\n",
              "    </tr>\n",
              "    <tr>\n",
              "      <th>22</th>\n",
              "      <td>Service is also cute.</td>\n",
              "      <td>1</td>\n",
              "    </tr>\n",
              "    <tr>\n",
              "      <th>23</th>\n",
              "      <td>I could care less... The interior is just beau...</td>\n",
              "      <td>1</td>\n",
              "    </tr>\n",
              "    <tr>\n",
              "      <th>24</th>\n",
              "      <td>So they performed.</td>\n",
              "      <td>1</td>\n",
              "    </tr>\n",
              "    <tr>\n",
              "      <th>25</th>\n",
              "      <td>That's right....the red velvet cake.....ohhh t...</td>\n",
              "      <td>1</td>\n",
              "    </tr>\n",
              "    <tr>\n",
              "      <th>26</th>\n",
              "      <td>- They never brought a salad we asked for.</td>\n",
              "      <td>0</td>\n",
              "    </tr>\n",
              "    <tr>\n",
              "      <th>27</th>\n",
              "      <td>This hole in the wall has great Mexican street...</td>\n",
              "      <td>1</td>\n",
              "    </tr>\n",
              "    <tr>\n",
              "      <th>28</th>\n",
              "      <td>Took an hour to get our food only 4 tables in ...</td>\n",
              "      <td>0</td>\n",
              "    </tr>\n",
              "    <tr>\n",
              "      <th>29</th>\n",
              "      <td>The worst was the salmon sashimi.</td>\n",
              "      <td>0</td>\n",
              "    </tr>\n",
              "    <tr>\n",
              "      <th>30</th>\n",
              "      <td>Also there are combos like a burger, fries, an...</td>\n",
              "      <td>1</td>\n",
              "    </tr>\n",
              "    <tr>\n",
              "      <th>31</th>\n",
              "      <td>This was like the final blow!</td>\n",
              "      <td>0</td>\n",
              "    </tr>\n",
              "    <tr>\n",
              "      <th>32</th>\n",
              "      <td>I found this place by accident and I could not...</td>\n",
              "      <td>1</td>\n",
              "    </tr>\n",
              "    <tr>\n",
              "      <th>33</th>\n",
              "      <td>seems like a good quick place to grab a bite o...</td>\n",
              "      <td>0</td>\n",
              "    </tr>\n",
              "    <tr>\n",
              "      <th>34</th>\n",
              "      <td>Overall, I like this place a lot.</td>\n",
              "      <td>1</td>\n",
              "    </tr>\n",
              "    <tr>\n",
              "      <th>35</th>\n",
              "      <td>The only redeeming quality of the restaurant w...</td>\n",
              "      <td>1</td>\n",
              "    </tr>\n",
              "    <tr>\n",
              "      <th>36</th>\n",
              "      <td>Ample portions and good prices.</td>\n",
              "      <td>1</td>\n",
              "    </tr>\n",
              "    <tr>\n",
              "      <th>37</th>\n",
              "      <td>Poor service, the waiter made me feel like I w...</td>\n",
              "      <td>0</td>\n",
              "    </tr>\n",
              "    <tr>\n",
              "      <th>38</th>\n",
              "      <td>My first visit to Hiro was a delight!</td>\n",
              "      <td>1</td>\n",
              "    </tr>\n",
              "    <tr>\n",
              "      <th>39</th>\n",
              "      <td>Service sucks.</td>\n",
              "      <td>0</td>\n",
              "    </tr>\n",
              "    <tr>\n",
              "      <th>40</th>\n",
              "      <td>The shrimp tender and moist.</td>\n",
              "      <td>1</td>\n",
              "    </tr>\n",
              "    <tr>\n",
              "      <th>41</th>\n",
              "      <td>There is not a deal good enough that would dra...</td>\n",
              "      <td>0</td>\n",
              "    </tr>\n",
              "    <tr>\n",
              "      <th>42</th>\n",
              "      <td>Hard to judge whether these sides were good be...</td>\n",
              "      <td>0</td>\n",
              "    </tr>\n",
              "    <tr>\n",
              "      <th>43</th>\n",
              "      <td>On a positive note, our server was very attent...</td>\n",
              "      <td>1</td>\n",
              "    </tr>\n",
              "    <tr>\n",
              "      <th>44</th>\n",
              "      <td>Frozen pucks of disgust, with some of the wors...</td>\n",
              "      <td>0</td>\n",
              "    </tr>\n",
              "    <tr>\n",
              "      <th>45</th>\n",
              "      <td>The only thing I did like was the prime rib an...</td>\n",
              "      <td>1</td>\n",
              "    </tr>\n",
              "    <tr>\n",
              "      <th>46</th>\n",
              "      <td>It's too bad the food is so damn generic.</td>\n",
              "      <td>0</td>\n",
              "    </tr>\n",
              "    <tr>\n",
              "      <th>47</th>\n",
              "      <td>The burger is good beef, cooked just right.</td>\n",
              "      <td>1</td>\n",
              "    </tr>\n",
              "    <tr>\n",
              "      <th>48</th>\n",
              "      <td>If you want a sandwich just go to any Firehous...</td>\n",
              "      <td>1</td>\n",
              "    </tr>\n",
              "    <tr>\n",
              "      <th>49</th>\n",
              "      <td>My side Greek salad with the Greek dressing wa...</td>\n",
              "      <td>1</td>\n",
              "    </tr>\n",
              "  </tbody>\n",
              "</table>\n",
              "</div>"
            ],
            "text/plain": [
              "                                               Review  Liked\n",
              "1                                  Crust is not good.      0\n",
              "2           Not tasty and the texture was just nasty.      0\n",
              "3   Stopped by during the late May bank holiday of...      1\n",
              "4   The selection on the menu was great and so wer...      1\n",
              "5      Now I am getting angry and I want my damn pho.      0\n",
              "6               Honeslty it didn't taste THAT fresh.)      0\n",
              "7   The potatoes were like rubber and you could te...      0\n",
              "8                           The fries were great too.      1\n",
              "9                                      A great touch.      1\n",
              "10                           Service was very prompt.      1\n",
              "11                                 Would not go back.      0\n",
              "12  The cashier had no care what so ever on what I...      0\n",
              "13  I tried the Cape Cod ravoli, chicken, with cra...      1\n",
              "14  I was disgusted because I was pretty sure that...      0\n",
              "15  I was shocked because no signs indicate cash o...      0\n",
              "16                                Highly recommended.      1\n",
              "17             Waitress was a little slow in service.      0\n",
              "18  This place is not worth your time, let alone V...      0\n",
              "19                               did not like at all.      0\n",
              "20                                The Burrittos Blah!      0\n",
              "21                                 The food, amazing.      1\n",
              "22                              Service is also cute.      1\n",
              "23  I could care less... The interior is just beau...      1\n",
              "24                                 So they performed.      1\n",
              "25  That's right....the red velvet cake.....ohhh t...      1\n",
              "26         - They never brought a salad we asked for.      0\n",
              "27  This hole in the wall has great Mexican street...      1\n",
              "28  Took an hour to get our food only 4 tables in ...      0\n",
              "29                  The worst was the salmon sashimi.      0\n",
              "30  Also there are combos like a burger, fries, an...      1\n",
              "31                      This was like the final blow!      0\n",
              "32  I found this place by accident and I could not...      1\n",
              "33  seems like a good quick place to grab a bite o...      0\n",
              "34                  Overall, I like this place a lot.      1\n",
              "35  The only redeeming quality of the restaurant w...      1\n",
              "36                    Ample portions and good prices.      1\n",
              "37  Poor service, the waiter made me feel like I w...      0\n",
              "38              My first visit to Hiro was a delight!      1\n",
              "39                                     Service sucks.      0\n",
              "40                       The shrimp tender and moist.      1\n",
              "41  There is not a deal good enough that would dra...      0\n",
              "42  Hard to judge whether these sides were good be...      0\n",
              "43  On a positive note, our server was very attent...      1\n",
              "44  Frozen pucks of disgust, with some of the wors...      0\n",
              "45  The only thing I did like was the prime rib an...      1\n",
              "46          It's too bad the food is so damn generic.      0\n",
              "47        The burger is good beef, cooked just right.      1\n",
              "48  If you want a sandwich just go to any Firehous...      1\n",
              "49  My side Greek salad with the Greek dressing wa...      1"
            ]
          },
          "metadata": {
            "tags": []
          },
          "execution_count": 23
        }
      ]
    },
    {
      "cell_type": "markdown",
      "metadata": {
        "id": "nT1XKnp7S8Lo",
        "colab_type": "text"
      },
      "source": [
        "### Clean Dataset\n",
        "We now clean the dataset and get rid of stop words. These are words that don't really add  much value to the classificaton problem as they are words that do not express any emotional or feeling towards a certain thing. Most of this words are conjuctions and verbs. Thinking of it practicaly there are certain words when we hear or read from a sentence allow is to immedidately know the attitude of the sentence towards something, words such as irritating, disgusting, sweet, kind are all examples of words that arent stop words. Stop words might include, the ,and , you, when etc. We also clean the data and get rid of punctuations.\n",
        "\n",
        "The reason to do this is to reduce the size of our dataset and reduce the classification complexity by having fewer features to process."
      ]
    },
    {
      "cell_type": "code",
      "metadata": {
        "id": "VuYKgcweUkws",
        "colab_type": "code",
        "colab": {
          "base_uri": "https://localhost:8080/",
          "height": 50
        },
        "outputId": "72fc6f23-fcce-4576-da18-76e4609bbd60"
      },
      "source": [
        "# Clean the texts\n",
        "import re #Regular expression\n",
        "import nltk #Natural language toolkit\n",
        "\n",
        "#From nltk we get their collectionf of stopwords\n",
        "\n",
        "nltk.download('stopwords')\n",
        "from nltk.corpus import stopwords\n",
        "from nltk.stem.porter import PorterStemmer\n",
        "\n",
        "corpus = []\n",
        "for i in range(0,1000):\n",
        "  #Substitute anything that isnt a letter to a space for each review\n",
        "  review = re.sub('[^a-zA-Z]', ' ', dataset['Review'][i])\n",
        "  #Convert all to lower case\n",
        "  review = review.lower()\n",
        "  # Split the review into different words that are separated by a space\n",
        "  review = review.split()\n",
        "  # Stemming is simply converts a word in different teses to its root self\n",
        "  # An example loves, loved, lovely to just love\n",
        "  ps = PorterStemmer()\n",
        "  # Do not add words that are in the stop words\n",
        "  review = [ps.stem(word) for word in review if not word in set(stopwords.words('english'))]\n",
        "  # Join our previously split words back again separated with a space\n",
        "  review = ' '.join(review)  \n",
        "  corpus.append(review)\n",
        "\n",
        "  "
      ],
      "execution_count": 24,
      "outputs": [
        {
          "output_type": "stream",
          "text": [
            "[nltk_data] Downloading package stopwords to /root/nltk_data...\n",
            "[nltk_data]   Package stopwords is already up-to-date!\n"
          ],
          "name": "stdout"
        }
      ]
    },
    {
      "cell_type": "markdown",
      "metadata": {
        "id": "0T8nIwV7ZwWZ",
        "colab_type": "text"
      },
      "source": [
        "#### Do again a bit of exploring\n",
        "Let's see our clean dataset"
      ]
    },
    {
      "cell_type": "code",
      "metadata": {
        "id": "jY_2QGQxZvpm",
        "colab_type": "code",
        "colab": {
          "base_uri": "https://localhost:8080/",
          "height": 829
        },
        "outputId": "ca926137-818a-4454-8308-1acea90fb0e3"
      },
      "source": [
        "corpus[1:50]"
      ],
      "execution_count": 25,
      "outputs": [
        {
          "output_type": "execute_result",
          "data": {
            "text/plain": [
              "['crust good',\n",
              " 'tasti textur nasti',\n",
              " 'stop late may bank holiday rick steve recommend love',\n",
              " 'select menu great price',\n",
              " 'get angri want damn pho',\n",
              " 'honeslti tast fresh',\n",
              " 'potato like rubber could tell made ahead time kept warmer',\n",
              " 'fri great',\n",
              " 'great touch',\n",
              " 'servic prompt',\n",
              " 'would go back',\n",
              " 'cashier care ever say still end wayyy overpr',\n",
              " 'tri cape cod ravoli chicken cranberri mmmm',\n",
              " 'disgust pretti sure human hair',\n",
              " 'shock sign indic cash',\n",
              " 'highli recommend',\n",
              " 'waitress littl slow servic',\n",
              " 'place worth time let alon vega',\n",
              " 'like',\n",
              " 'burritto blah',\n",
              " 'food amaz',\n",
              " 'servic also cute',\n",
              " 'could care less interior beauti',\n",
              " 'perform',\n",
              " 'right red velvet cake ohhh stuff good',\n",
              " 'never brought salad ask',\n",
              " 'hole wall great mexican street taco friendli staff',\n",
              " 'took hour get food tabl restaur food luke warm sever run around like total overwhelm',\n",
              " 'worst salmon sashimi',\n",
              " 'also combo like burger fri beer decent deal',\n",
              " 'like final blow',\n",
              " 'found place accid could happier',\n",
              " 'seem like good quick place grab bite familiar pub food favor look elsewher',\n",
              " 'overal like place lot',\n",
              " 'redeem qualiti restaur inexpens',\n",
              " 'ampl portion good price',\n",
              " 'poor servic waiter made feel like stupid everi time came tabl',\n",
              " 'first visit hiro delight',\n",
              " 'servic suck',\n",
              " 'shrimp tender moist',\n",
              " 'deal good enough would drag establish',\n",
              " 'hard judg whether side good gross melt styrofoam want eat fear get sick',\n",
              " 'posit note server attent provid great servic',\n",
              " 'frozen puck disgust worst peopl behind regist',\n",
              " 'thing like prime rib dessert section',\n",
              " 'bad food damn gener',\n",
              " 'burger good beef cook right',\n",
              " 'want sandwich go firehous',\n",
              " 'side greek salad greek dress tasti pita hummu refresh']"
            ]
          },
          "metadata": {
            "tags": []
          },
          "execution_count": 25
        }
      ]
    },
    {
      "cell_type": "markdown",
      "metadata": {
        "id": "CITMMP-taPaA",
        "colab_type": "text"
      },
      "source": [
        "## Step 4: Create a bag of words model\n",
        "\n",
        "This step scans through each through each row of our corpus and creating a collumn for each each word then fills each collumn for each row as 0 or  1 if the particular row doesnt have that word the respective collumn for that word is filled as a zero.\n",
        "\n",
        "The result is  a matrix that is largely filled with zeros and is refered to as a sparse matrix, the result is then our x\n",
        "where the rows are our different reviews and the collumns our new features"
      ]
    },
    {
      "cell_type": "code",
      "metadata": {
        "id": "pdVWHxxla4FV",
        "colab_type": "code",
        "colab": {}
      },
      "source": [
        "from sklearn.feature_extraction.text import CountVectorizer\n",
        "# This is achieved is using \n",
        "cv = CountVectorizer(max_features = 1500)\n",
        "x = cv.fit_transform(corpus).toarray()\n",
        "y = dataset.iloc[:, 1].values"
      ],
      "execution_count": 0,
      "outputs": []
    },
    {
      "cell_type": "markdown",
      "metadata": {
        "id": "ObeI6FuTbTDi",
        "colab_type": "text"
      },
      "source": [
        "View our X after tokenizations"
      ]
    },
    {
      "cell_type": "code",
      "metadata": {
        "id": "IbHyLxizbZxT",
        "colab_type": "code",
        "colab": {
          "base_uri": "https://localhost:8080/",
          "height": 33
        },
        "outputId": "6387b303-ab50-4732-c336-8a8073fc3c4b"
      },
      "source": [
        "#This is now our X which we can now feed to our classifiation algorithm\n",
        "x.shape"
      ],
      "execution_count": 27,
      "outputs": [
        {
          "output_type": "execute_result",
          "data": {
            "text/plain": [
              "(1000, 1500)"
            ]
          },
          "metadata": {
            "tags": []
          },
          "execution_count": 27
        }
      ]
    },
    {
      "cell_type": "markdown",
      "metadata": {
        "id": "Cs5FL23skPef",
        "colab_type": "text"
      },
      "source": [
        "## Step 5: Create Validation Partitions\n",
        "\n",
        "K-Fold and Hold Out"
      ]
    },
    {
      "cell_type": "code",
      "metadata": {
        "id": "mGKTbs2wbvKv",
        "colab_type": "code",
        "colab": {
          "base_uri": "https://localhost:8080/",
          "height": 33
        },
        "outputId": "beefe604-58e7-4b5b-8078-5943b97cc3b8"
      },
      "source": [
        "from sklearn.model_selection import train_test_split, KFold\n",
        "kf = KFold(n_splits = 5, shuffle = True)\n",
        "kf.get_n_splits(x)\n",
        "\n",
        "print(kf)  \n",
        "\n",
        "for train_index, test_index in kf.split(x):\n",
        "   x_train, x_test = x[train_index], x[test_index]\n",
        "   y_train, y_test = y[train_index], y[test_index]\n",
        "    "
      ],
      "execution_count": 31,
      "outputs": [
        {
          "output_type": "stream",
          "text": [
            "KFold(n_splits=5, random_state=None, shuffle=True)\n"
          ],
          "name": "stdout"
        }
      ]
    },
    {
      "cell_type": "code",
      "metadata": {
        "id": "9-ttvtpjouPO",
        "colab_type": "code",
        "colab": {}
      },
      "source": [
        "x_train, x_test, y_train, y_test = train_test_split(x, y, test_size = 0.20, random_state = 0)\n"
      ],
      "execution_count": 0,
      "outputs": []
    },
    {
      "cell_type": "markdown",
      "metadata": {
        "id": "ns6WxL7vkO75",
        "colab_type": "text"
      },
      "source": [
        "## Step 6: Train our model : Naive Bayes"
      ]
    },
    {
      "cell_type": "code",
      "metadata": {
        "id": "3oC1MTGumSfj",
        "colab_type": "code",
        "colab": {
          "base_uri": "https://localhost:8080/",
          "height": 33
        },
        "outputId": "59181229-f1dc-43f1-f7f6-f3d00ab5c305"
      },
      "source": [
        "# Fitting Naive Bayes to the Training set\n",
        "from sklearn.naive_bayes import GaussianNB\n",
        "\n",
        "nlp_model = GaussianNB()\n",
        "nlp_model.fit(x_train, y_train)"
      ],
      "execution_count": 44,
      "outputs": [
        {
          "output_type": "execute_result",
          "data": {
            "text/plain": [
              "GaussianNB(priors=None, var_smoothing=1e-09)"
            ]
          },
          "metadata": {
            "tags": []
          },
          "execution_count": 44
        }
      ]
    },
    {
      "cell_type": "code",
      "metadata": {
        "id": "I9GY_PvmmbGn",
        "colab_type": "code",
        "colab": {}
      },
      "source": [
        "# Predicting the Test set results\n",
        "y_pred = nlp_model.predict(x_test)"
      ],
      "execution_count": 0,
      "outputs": []
    },
    {
      "cell_type": "markdown",
      "metadata": {
        "id": "bvtah0jqr6Op",
        "colab_type": "text"
      },
      "source": [
        "## Step 7: Model Evaluation\n",
        "\n",
        "### Confusion Matrix and Accuracy computer Helper Functions"
      ]
    },
    {
      "cell_type": "code",
      "metadata": {
        "id": "s8GGAmYzsGmD",
        "colab_type": "code",
        "colab": {}
      },
      "source": [
        "from sklearn.metrics import confusion_matrix\n",
        "from sklearn.utils.multiclass import unique_labels\n",
        "\n",
        "# Making the Confusion Matrix\n",
        "def plot_confusion_matrix(cm,title=None,cmap=plt.cm.Blues):\n",
        "    \n",
        "    if not title:\n",
        "      title = 'Confusion matrix'\n",
        "\n",
        "   \n",
        "    # Only use the labels that appear in the data\n",
        "    fig, ax = plt.subplots()\n",
        "    im = ax.imshow(cm, interpolation='nearest', cmap=cmap)\n",
        "    ax.figure.colorbar(im, ax=ax)\n",
        "    ax.figsize=(10,10)\n",
        "    \n",
        "    # We want to show all ticks...\n",
        "    ax.set(xticks=np.arange(cm.shape[1]),\n",
        "           yticks=np.arange(cm.shape[0]),\n",
        "           # ... and label them with the respective list entries\n",
        "           title=title,\n",
        "           ylabel='True label',\n",
        "           xlabel='Predicted label')\n",
        "\n",
        "    # Rotate the tick labels and set their alignment.\n",
        "    plt.setp(ax.get_xticklabels(), rotation=45, ha=\"right\",\n",
        "             rotation_mode=\"anchor\")\n",
        "\n",
        "    # Loop over data dimensions and create text annotations.\n",
        "    fmt = 'd'\n",
        "    thresh = cm.max() / 2.\n",
        "    for i in range(cm.shape[0]):\n",
        "        for j in range(cm.shape[1]):\n",
        "            ax.text(j, i, format(cm[i, j], fmt),\n",
        "                    ha=\"center\", va=\"center\",\n",
        "                    color=\"white\" if cm[i, j] > thresh else \"black\")\n",
        "    \n",
        "    return ax\n",
        "\n",
        "def precision(label, confusion_matrix):\n",
        "    col = confusion_matrix[:, label]\n",
        "    return confusion_matrix[label, label] / col.sum()\n",
        "    \n",
        "def recall(label, confusion_matrix):\n",
        "    row = confusion_matrix[label, :]\n",
        "    return confusion_matrix[label, label] / row.sum()\n",
        "def precision_macro_average(confusion_matrix):\n",
        "    rows, columns = confusion_matrix.shape\n",
        "    sum_of_precisions = 0\n",
        "    for label in range(rows):\n",
        "        sum_of_precisions += precision(label, confusion_matrix)\n",
        "    return sum_of_precisions / rows\n",
        "def recall_macro_average(confusion_matrix):\n",
        "    rows, columns = confusion_matrix.shape\n",
        "    sum_of_recalls = 0\n",
        "    for label in range(columns):\n",
        "        sum_of_recalls += recall(label, confusion_matrix)\n",
        "    return sum_of_recalls / columns\n",
        "  \n",
        "#Compute Accuracy\n",
        "def accuracy(confusion_matrix):\n",
        "    diagonal_sum = confusion_matrix.trace()\n",
        "    sum_of_all_elements = confusion_matrix.sum()\n",
        "    return diagonal_sum / sum_of_all_elements "
      ],
      "execution_count": 0,
      "outputs": []
    },
    {
      "cell_type": "markdown",
      "metadata": {
        "id": "pQf_hvKUnOPM",
        "colab_type": "text"
      },
      "source": [
        "Create our confusion matrix"
      ]
    },
    {
      "cell_type": "code",
      "metadata": {
        "id": "UBcM4sVLnmvQ",
        "colab_type": "code",
        "colab": {
          "base_uri": "https://localhost:8080/",
          "height": 313
        },
        "outputId": "bdfb89de-f683-4064-9ed7-ff7ee31555fe"
      },
      "source": [
        "cm = confusion_matrix(y_test,y_pred)\n",
        "plot_confusion_matrix(cm,'Confusion Matrix')"
      ],
      "execution_count": 46,
      "outputs": [
        {
          "output_type": "execute_result",
          "data": {
            "text/plain": [
              "<matplotlib.axes._subplots.AxesSubplot at 0x7f22b0c1e588>"
            ]
          },
          "metadata": {
            "tags": []
          },
          "execution_count": 46
        },
        {
          "output_type": "display_data",
          "data": {
            "image/png": "[encoded data removed]",
            "text/plain": [
              "<Figure size 432x288 with 2 Axes>"
            ]
          },
          "metadata": {
            "tags": []
          }
        }
      ]
    },
    {
      "cell_type": "code",
      "metadata": {
        "id": "xJrsyuHjo7Bk",
        "colab_type": "code",
        "colab": {
          "base_uri": "https://localhost:8080/",
          "height": 66
        },
        "outputId": "4ece9ccc-ab37-4d58-aeb8-e6e5fb0cd547"
      },
      "source": [
        "print(\"label precision recall\")\n",
        "for label in range(2):\n",
        "    print(f\"{label:5d} {precision(label, cm):9.3f} {recall(label, cm):6.3f}\")"
      ],
      "execution_count": 48,
      "outputs": [
        {
          "output_type": "stream",
          "text": [
            "label precision recall\n",
            "    0     0.821  0.567\n",
            "    1     0.684  0.883\n"
          ],
          "name": "stdout"
        }
      ]
    },
    {
      "cell_type": "code",
      "metadata": {
        "id": "OFtoUzCmpAF0",
        "colab_type": "code",
        "colab": {
          "base_uri": "https://localhost:8080/",
          "height": 33
        },
        "outputId": "ccc74687-25b8-4cd4-85af-4fa91ed6897a"
      },
      "source": [
        "print(\"Accuracy = \", (accuracy(cm)*100))"
      ],
      "execution_count": 49,
      "outputs": [
        {
          "output_type": "stream",
          "text": [
            "Accuracy =  73.0\n"
          ],
          "name": "stdout"
        }
      ]
    }
  ]
}